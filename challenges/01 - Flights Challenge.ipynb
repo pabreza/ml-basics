{
 "cells": [
  {
   "attachments": {},
   "cell_type": "markdown",
   "metadata": {},
   "source": [
    "# Flights Data Exploration Challenge\n",
    "\n",
    "In this challenge, you'll explore a real-world dataset containing flights data from the US Department of Transportation.\n",
    "\n",
    "Let's start by loading and viewing the data."
   ]
  },
  {
   "cell_type": "code",
   "execution_count": null,
   "metadata": {},
   "outputs": [],
   "source": [
    "import pandas as pd\n",
    "\n",
    "df_flights = pd.read_csv('data/flights.csv')\n",
    "df_flights.head()"
   ]
  },
  {
   "attachments": {},
   "cell_type": "markdown",
   "metadata": {},
   "source": [
    "The dataset contains observations of US domestic flights in 2013, and consists of the following fields:\n",
    "\n",
    "- **Year**: The year of the flight (all records are from 2013)\n",
    "- **Month**: The month of the flight\n",
    "- **DayofMonth**: The day of the month on which the flight departed\n",
    "- **DayOfWeek**: The day of the week on which the flight departed - from 1 (Monday) to 7 (Sunday)\n",
    "- **Carrier**: The two-letter abbreviation for the airline.\n",
    "- **OriginAirportID**: A unique numeric identifier for the departure aiport\n",
    "- **OriginAirportName**: The full name of the departure airport\n",
    "- **OriginCity**: The departure airport city\n",
    "- **OriginState**: The departure airport state\n",
    "- **DestAirportID**: A unique numeric identifier for the destination aiport\n",
    "- **DestAirportName**: The full name of the destination airport\n",
    "- **DestCity**: The destination airport city\n",
    "- **DestState**: The destination airport state\n",
    "- **CRSDepTime**: The scheduled departure time\n",
    "- **DepDelay**: The number of minutes departure was delayed (flight that left ahead of schedule have a negative value)\n",
    "- **DelDelay15**: A binary indicator that departure was delayed by more than 15 minutes (and therefore considered \"late\")\n",
    "- **CRSArrTime**: The scheduled arrival time\n",
    "- **ArrDelay**: The number of minutes arrival was delayed (flight that arrived ahead of schedule have a negative value)\n",
    "- **ArrDelay15**: A binary indicator that arrival was delayed by more than 15 minutes (and therefore considered \"late\")\n",
    "- **Cancelled**: A binary indicator that the flight was cancelled\n",
    "\n",
    "Your challenge is to explore the flight data to analyze possible factors that affect delays in departure or arrival of a flight.\n",
    "\n",
    "1. Start by cleaning the data.\n",
    "    - Identify any null or missing data, and impute appropriate replacement values.\n",
    "    - Identify and eliminate any outliers in the **DepDelay** and **ArrDelay** columns.\n",
    "2. Explore the cleaned data.\n",
    "    - View summary statistics for the numeric fields in the dataset.\n",
    "    - Determine the distribution of the **DepDelay** and **ArrDelay** columns.\n",
    "    - Use statistics, aggregate functions, and visualizations to answer the following questions:\n",
    "        - *What are the average (mean) departure and arrival delays?*\n",
    "        - *How do the carriers compare in terms of arrival delay performance?*\n",
    "        - *Is there a noticable difference in arrival delays for different days of the week?*\n",
    "        - *Which departure airport has the highest average departure delay?*\n",
    "        - *Do **late** departures tend to result in longer arrival delays than on-time departures?*\n",
    "        - *Which route (from origin airport to destination airport) has the most **late** arrivals?*\n",
    "        - *Which route has the highest average arrival delay?*\n",
    "        \n",
    "Add markdown and code cells as required to create your solution.\n",
    "\n",
    "> **Note**: There is no single \"correct\" solution. A sample solution is provided in [01 - Flights Challenge.ipynb](01%20-%20Flights%20Solution.ipynb)."
   ]
  },
  {
   "cell_type": "code",
   "execution_count": null,
   "metadata": {},
   "outputs": [],
   "source": [
    "#   df_flights.isnull().sum()\n",
    "#   df_flights[df_flights.isnull().any(axis=1)]\n",
    "\n",
    "#df_flights = df_flights.dropna(axis=0, how = \"any\")\n",
    "\n",
    "df_flights.DepDel15 = df_flights.DepDel15.fillna(df_flights.DepDel15.mean())\n",
    "df_flights"
   ]
  },
  {
   "cell_type": "code",
   "execution_count": null,
   "metadata": {},
   "outputs": [],
   "source": [
    "df_flights.DepDelay.describe()"
   ]
  },
  {
   "cell_type": "code",
   "execution_count": null,
   "metadata": {},
   "outputs": [],
   "source": [
    "# Function to show summary stats and distribution for a column\n",
    "def show_distribution(var_data):\n",
    "    from matplotlib import pyplot as plt\n",
    "\n",
    "    # Get statistics\n",
    "    min_val = var_data.min()\n",
    "    max_val = var_data.max()\n",
    "    mean_val = var_data.mean()\n",
    "    med_val = var_data.median()\n",
    "    mod_val = var_data.mode()[0]\n",
    "\n",
    "    print(var_data.name,'\\nMinimum:{:.2f}\\nMean:{:.2f}\\nMedian:{:.2f}\\nMode:{:.2f}\\nMaximum:{:.2f}\\n'.format(min_val,\n",
    "                                                                                            mean_val,\n",
    "                                                                                            med_val,\n",
    "                                                                                            mod_val,\n",
    "                                                                                            max_val))\n",
    "\n",
    "    # Create a figure for 2 subplots (2 rows, 1 column)\n",
    "    fig, ax = plt.subplots(2, 1, figsize = (10,4))\n",
    "\n",
    "    # Plot the histogram   \n",
    "    ax[0].hist(var_data)\n",
    "    ax[0].set_ylabel('Frequency')\n",
    "\n",
    "    # Add lines for the mean, median, and mode\n",
    "    ax[0].axvline(x=min_val, color = 'gray', linestyle='dashed', linewidth = 2)\n",
    "    ax[0].axvline(x=mean_val, color = 'cyan', linestyle='dashed', linewidth = 2)\n",
    "    ax[0].axvline(x=med_val, color = 'red', linestyle='dashed', linewidth = 2)\n",
    "    ax[0].axvline(x=mod_val, color = 'yellow', linestyle='dashed', linewidth = 2)\n",
    "    ax[0].axvline(x=max_val, color = 'gray', linestyle='dashed', linewidth = 2)\n",
    "\n",
    "    # Plot the boxplot   \n",
    "    ax[1].boxplot(var_data, vert=False)\n",
    "    ax[1].set_xlabel('Value')\n",
    "\n",
    "    # Add a title to the Figure\n",
    "    fig.suptitle(var_data.name)\n",
    "\n",
    "    # Show the figure\n",
    "    fig.show()\n",
    "\n",
    "# Call the function for each delay field\n",
    "delayFields = ['DepDelay','ArrDelay']\n",
    "for col in delayFields:\n",
    "    show_distribution(df_flights[col])"
   ]
  },
  {
   "cell_type": "code",
   "execution_count": null,
   "metadata": {},
   "outputs": [],
   "source": [
    "# Trim outliers for ArrDelay based on 1% and 90% percentiles\n",
    "ArrDelay_01pcntile = df_flights.ArrDelay.quantile(0.01)\n",
    "ArrDelay_90pcntile = df_flights.ArrDelay.quantile(0.90)\n",
    "df_flights = df_flights[df_flights.ArrDelay < ArrDelay_90pcntile]\n",
    "df_flights = df_flights[df_flights.ArrDelay > ArrDelay_01pcntile]\n",
    "\n",
    "# Trim outliers for DepDelay based on 1% and 90% percentiles\n",
    "DepDelay_01pcntile = df_flights.DepDelay.quantile(0.01)\n",
    "DepDelay_90pcntile = df_flights.DepDelay.quantile(0.90)\n",
    "df_flights = df_flights[df_flights.DepDelay < DepDelay_90pcntile]\n",
    "df_flights = df_flights[df_flights.DepDelay > DepDelay_01pcntile]\n",
    "\n",
    "# View the revised distributions\n",
    "for col in delayFields:\n",
    "    show_distribution(df_flights[col])"
   ]
  },
  {
   "cell_type": "code",
   "execution_count": null,
   "metadata": {},
   "outputs": [],
   "source": [
    "df_flights.describe()"
   ]
  },
  {
   "attachments": {},
   "cell_type": "markdown",
   "metadata": {},
   "source": [
    "#### What are the mean departure and arrival delays?"
   ]
  },
  {
   "cell_type": "code",
   "execution_count": null,
   "metadata": {},
   "outputs": [],
   "source": [
    "df_flights[delayFields].mean()"
   ]
  },
  {
   "attachments": {},
   "cell_type": "markdown",
   "metadata": {},
   "source": [
    "#### How do the carriers compare in terms of arrival delay performance?"
   ]
  },
  {
   "cell_type": "code",
   "execution_count": null,
   "metadata": {},
   "outputs": [],
   "source": [
    "for col in delayFields:\n",
    "    df_flights.boxplot(column=col, by='Carrier', figsize=(8,8))"
   ]
  },
  {
   "attachments": {},
   "cell_type": "markdown",
   "metadata": {},
   "source": [
    "#### Are some days of the week more prone to arrival days than others?"
   ]
  },
  {
   "cell_type": "code",
   "execution_count": null,
   "metadata": {},
   "outputs": [],
   "source": [
    "for col in delayFields:\n",
    "    df_flights.boxplot(column=col, by='DayOfWeek', figsize=(8,8))"
   ]
  },
  {
   "attachments": {},
   "cell_type": "markdown",
   "metadata": {},
   "source": [
    "#### Which departure airport has the highest average departure delay?"
   ]
  },
  {
   "cell_type": "code",
   "execution_count": null,
   "metadata": {},
   "outputs": [],
   "source": [
    "departure_airport_group = df_flights.groupby(df_flights.OriginAirportName)\n",
    "\n",
    "mean_departure_delays = pd.DataFrame(departure_airport_group['DepDelay'].mean()).sort_values('DepDelay', ascending=False)\n",
    "mean_departure_delays.plot(kind = \"bar\", figsize=(12,12))\n",
    "mean_departure_delays"
   ]
  },
  {
   "attachments": {},
   "cell_type": "markdown",
   "metadata": {},
   "source": [
    "#### Do *late* departures tend to result in longer arrival delays than on-time departures?"
   ]
  },
  {
   "cell_type": "code",
   "execution_count": null,
   "metadata": {},
   "outputs": [],
   "source": [
    "df_flights.boxplot(column='ArrDelay', by='DepDel15', figsize=(12,12))"
   ]
  },
  {
   "attachments": {},
   "cell_type": "markdown",
   "metadata": {},
   "source": [
    "#### Which route (from origin airport to destination airport) has the most **late** arrivals?"
   ]
  },
  {
   "cell_type": "code",
   "execution_count": null,
   "metadata": {},
   "outputs": [],
   "source": [
    "# Add a routes column\n",
    "routes = pd.Series(df_flights['OriginAirportName'] + ' > ' + df_flights['DestAirportName'])\n",
    "df_flights = pd.concat([df_flights, routes.rename(\"Route\")], axis=1)\n",
    "\n",
    "# Group by routes\n",
    "route_group = df_flights.groupby(df_flights.Route)\n",
    "pd.DataFrame(route_group['ArrDel15'].sum()).sort_values('ArrDel15', ascending=False)"
   ]
  },
  {
   "attachments": {},
   "cell_type": "markdown",
   "metadata": {},
   "source": [
    "#### Which route has the highest average arrival delay?"
   ]
  },
  {
   "cell_type": "code",
   "execution_count": null,
   "metadata": {},
   "outputs": [],
   "source": [
    "pd.DataFrame(route_group['ArrDelay'].mean()).sort_values('ArrDelay', ascending=False)"
   ]
  }
 ],
 "metadata": {
  "kernelspec": {
   "display_name": "Python 3",
   "language": "python",
   "name": "python3"
  },
  "language_info": {
   "codemirror_mode": {
    "name": "ipython",
    "version": 3
   },
   "file_extension": ".py",
   "mimetype": "text/x-python",
   "name": "python",
   "nbconvert_exporter": "python",
   "pygments_lexer": "ipython3",
   "version": "3.11.4"
  }
 },
 "nbformat": 4,
 "nbformat_minor": 4
}
